{
 "cells": [
  {
   "cell_type": "code",
   "execution_count": 2,
   "metadata": {},
   "outputs": [
    {
     "name": "stderr",
     "output_type": "stream",
     "text": [
      "/home/grl/repo/micromamba/envs/py38/lib/python3.8/site-packages/matplotlib/__init__.py:169: DeprecationWarning: distutils Version classes are deprecated. Use packaging.version instead.\n",
      "  if LooseVersion(module.__version__) < minver:\n",
      "/home/grl/repo/micromamba/envs/py38/lib/python3.8/site-packages/setuptools/_distutils/version.py:345: DeprecationWarning: distutils Version classes are deprecated. Use packaging.version instead.\n",
      "  other = LooseVersion(other)\n"
     ]
    }
   ],
   "source": [
    "%load_ext autoreload\n",
    "%autoreload 2\n",
    "\n",
    "from rl_games.torch_runner import Runner\n",
    "import os\n",
    "import yaml\n",
    "import torch\n",
    "import matplotlib.pyplot as plt\n",
    "import gym\n",
    "from IPython import display\n",
    "import numpy as np\n",
    "import onnx\n",
    "import onnxruntime as ort\n",
    "%matplotlib inline\n",
    "\n",
    "import os\n",
    "from hydra import initialize, initialize_config_module, initialize_config_dir, compose\n",
    "from omegaconf import OmegaConf\n",
    "# https://github.com/facebookresearch/hydra/blob/main/examples/jupyter_notebooks/compose_configs_in_notebook.ipynb"
   ]
  },
  {
   "cell_type": "code",
   "execution_count": 3,
   "metadata": {},
   "outputs": [
    {
     "name": "stdout",
     "output_type": "stream",
     "text": [
      "GPU 0: NVIDIA GeForce RTX 4090 (UUID: GPU-ab333812-0b68-185d-faad-8885aa7ed6e7)\n"
     ]
    }
   ],
   "source": [
    "!nvidia-smi -L"
   ]
  },
  {
   "cell_type": "code",
   "execution_count": 4,
   "metadata": {},
   "outputs": [],
   "source": [
    "abs_config_dir=os.path.abspath(\"./cfg\")\n",
    "with initialize_config_dir(version_base=None, config_dir=abs_config_dir):\n",
    "    cfg=compose(config_name=\"config.yaml\")"
   ]
  },
  {
   "cell_type": "code",
   "execution_count": 5,
   "metadata": {},
   "outputs": [
    {
     "name": "stdout",
     "output_type": "stream",
     "text": [
      "Using rl_device: cuda:0\n",
      "Using sim_device: cuda:0\n",
      "{'name': 'A1Terrain', 'full_experiment_name': None, 'env_name': 'rlgpu', 'ppo': True, 'mixed_precision': True, 'normalize_input': True, 'normalize_value': True, 'normalize_advantage': True, 'value_bootstrap': True, 'clip_actions': False, 'num_actors': 4096, 'reward_shaper': {'scale_value': 1.0}, 'gamma': 0.99, 'tau': 0.95, 'e_clip': 0.2, 'entropy_coef': 0.001, 'learning_rate': 0.0003, 'lr_schedule': 'adaptive', 'kl_threshold': 0.008, 'truncate_grads': True, 'grad_norm': 1.0, 'horizon_length': 24, 'minibatch_size': 16384, 'mini_epochs': 5, 'critic_coef': 2, 'clip_value': True, 'seq_length': 4, 'bounds_loss_coef': 0.0, 'max_epochs': 1500, 'save_best_after': 100, 'score_to_win': 20000, 'save_frequency': 50, 'print_stats': True, 'player': {'games_num': 100000}, 'device': 'cuda:0', 'population_based_training': False, 'pbt_idx': None}\n"
     ]
    }
   ],
   "source": [
    "from isaacgymenvs.utils.reformat import omegaconf_to_dict, print_dict\n",
    "\n",
    "\n",
    "\n",
    "def preprocess_train_config(cfg, config_dict):\n",
    "    \"\"\"\n",
    "    Adding common configuration parameters to the rl_games train config.\n",
    "    An alternative to this is inferring them in task-specific .yaml files, but that requires repeating the same\n",
    "    variable interpolations in each config.\n",
    "    \"\"\"\n",
    "\n",
    "    train_cfg = config_dict['params']['config']\n",
    "\n",
    "    train_cfg['device'] = cfg.rl_device\n",
    "\n",
    "    train_cfg['population_based_training'] = cfg.pbt.enabled\n",
    "    train_cfg['pbt_idx'] = cfg.pbt.policy_idx if cfg.pbt.enabled else None\n",
    "\n",
    "    train_cfg['full_experiment_name'] = cfg.get('full_experiment_name')\n",
    "\n",
    "    print(f'Using rl_device: {cfg.rl_device}')\n",
    "    print(f'Using sim_device: {cfg.sim_device}')\n",
    "    print(train_cfg)\n",
    "\n",
    "    try:\n",
    "        model_size_multiplier = config_dict['params']['network']['mlp']['model_size_multiplier']\n",
    "        if model_size_multiplier != 1:\n",
    "            units = config_dict['params']['network']['mlp']['units']\n",
    "            for i, u in enumerate(units):\n",
    "                units[i] = u * model_size_multiplier\n",
    "            print(\n",
    "                f'Modified MLP units by x{model_size_multiplier} to {config_dict[\"params\"][\"network\"][\"mlp\"][\"units\"]}'\n",
    "            )\n",
    "    except KeyError:\n",
    "        pass\n",
    "\n",
    "    return config_dict\n",
    "\n",
    "\n",
    "rlg_config_dict = omegaconf_to_dict(cfg.train)\n",
    "rlg_config_dict = preprocess_train_config(cfg, rlg_config_dict)"
   ]
  },
  {
   "cell_type": "code",
   "execution_count": 6,
   "metadata": {},
   "outputs": [
    {
     "name": "stdout",
     "output_type": "stream",
     "text": [
      "self.seed = 42\n"
     ]
    }
   ],
   "source": [
    "runner = Runner()\n",
    "runner.load(rlg_config_dict)\n",
    "\n",
    "# agent = runner.create_player()\n"
   ]
  },
  {
   "cell_type": "code",
   "execution_count": 7,
   "metadata": {},
   "outputs": [],
   "source": [
    "onnx_model_path = \"/home/grl/repo/RobotsMakingRobots/legged_env/outputs/Biped/True/20240627_182618/biped.onnx\"\n",
    "onnx_model = onnx.load(onnx_model_path)\n"
   ]
  },
  {
   "cell_type": "code",
   "execution_count": 8,
   "metadata": {},
   "outputs": [
    {
     "data": {
      "text/plain": [
       "[name: \"obs\"\n",
       "type {\n",
       "  tensor_type {\n",
       "    elem_type: 1\n",
       "    shape {\n",
       "      dim {\n",
       "        dim_value: 1\n",
       "      }\n",
       "      dim {\n",
       "        dim_value: 42\n",
       "      }\n",
       "    }\n",
       "  }\n",
       "}\n",
       "]"
      ]
     },
     "execution_count": 8,
     "metadata": {},
     "output_type": "execute_result"
    }
   ],
   "source": [
    "onnx_model.graph.input"
   ]
  },
  {
   "cell_type": "code",
   "execution_count": 9,
   "metadata": {},
   "outputs": [
    {
     "name": "stdout",
     "output_type": "stream",
     "text": [
      "[array([[-0.3042116 , -0.19681515,  0.37351635, -0.26178414,  0.16354656,\n",
      "        -0.09075491,  0.13380232,  0.2533207 , -0.59685737, -0.20561233]],\n",
      "      dtype=float32), array([[-3.3247182, -2.7401602, -2.6324568, -2.6378489, -2.7127957,\n",
      "        -3.351093 , -2.763488 , -2.6127214, -2.631418 , -2.7043083]],\n",
      "      dtype=float32), array([[0.3541862]], dtype=float32)]\n"
     ]
    }
   ],
   "source": [
    "ort_model = ort.InferenceSession(onnx_model_path)\n",
    "\n",
    "outputs = ort_model.run(\n",
    "    None,\n",
    "    {\"obs\": np.zeros((1, 42)).astype(np.float32)},\n",
    ")\n",
    "print(outputs)"
   ]
  },
  {
   "cell_type": "code",
   "execution_count": 11,
   "metadata": {},
   "outputs": [
    {
     "data": {
      "text/plain": [
       "array([[0.3541862]], dtype=float32)"
      ]
     },
     "execution_count": 11,
     "metadata": {},
     "output_type": "execute_result"
    }
   ],
   "source": [
    "outputs[2]"
   ]
  },
  {
   "cell_type": "code",
   "execution_count": 23,
   "metadata": {},
   "outputs": [],
   "source": [
    "mu = outputs[0]\n",
    "sigma = np.exp(outputs[1])\n",
    "# action = np.random.normal(mu, sigma)\n",
    "action = mu\n"
   ]
  },
  {
   "cell_type": "code",
   "execution_count": 24,
   "metadata": {},
   "outputs": [
    {
     "data": {
      "text/plain": [
       "array([[-0.3042116 , -0.19681515,  0.37351635, -0.26178414,  0.16354656,\n",
       "        -0.09075491,  0.13380232,  0.2533207 , -0.59685737, -0.20561233]],\n",
       "      dtype=float32)"
      ]
     },
     "execution_count": 24,
     "metadata": {},
     "output_type": "execute_result"
    }
   ],
   "source": [
    "mu"
   ]
  },
  {
   "cell_type": "code",
   "execution_count": 25,
   "metadata": {},
   "outputs": [
    {
     "data": {
      "text/plain": [
       "array([[0.03598266, 0.06456   , 0.0719016 , 0.07151494, 0.06635105,\n",
       "        0.03504603, 0.06307139, 0.07333469, 0.07197633, 0.0669166 ]],\n",
       "      dtype=float32)"
      ]
     },
     "execution_count": 25,
     "metadata": {},
     "output_type": "execute_result"
    }
   ],
   "source": [
    "sigma"
   ]
  },
  {
   "cell_type": "code",
   "execution_count": 4,
   "metadata": {},
   "outputs": [],
   "source": [
    "import numpy as np\n",
    "from operator import itemgetter\n",
    "\n",
    "obs_names = [\n",
    "            \"linearVelocity\", \n",
    "            \"angularVelocity\", \n",
    "            \"projectedGravity\", \n",
    "            \"commands\", \n",
    "            \"dofPosition\", \n",
    "            \"dofVelocity\", \n",
    "            \"actions\"\n",
    "        ]\n",
    "\n",
    "\n",
    "        \n",
    "    "
   ]
  },
  {
   "cell_type": "code",
   "execution_count": 12,
   "metadata": {},
   "outputs": [],
   "source": [
    "import onnx\n",
    "import onnxruntime as ort\n",
    "onnx_model_path = \"/home/grl/repo/RobotsMakingRobots/legged_env/outputs/Biped/export/20240628_100823/policy.onnx\"\n",
    "ort_model = ort.InferenceSession(onnx_model_path)\n",
    "\n",
    "def get_action(obs):\n",
    "    mu, log_std, value = ort_model.run(\n",
    "    None,\n",
    "    {\n",
    "        \"obs\": np.asarray(obs,dtype=np.float32).reshape(1,-1)},\n",
    "    )\n",
    "    return mu"
   ]
  },
  {
   "cell_type": "code",
   "execution_count": 13,
   "metadata": {},
   "outputs": [
    {
     "data": {
      "text/plain": [
       "array([[-0.3311361 , -0.20155035,  0.44653955, -0.67294735,  0.34802103,\n",
       "        -0.04197904,  0.14953172,  0.43407536, -0.25228912, -0.10573124]],\n",
       "      dtype=float32)"
      ]
     },
     "execution_count": 13,
     "metadata": {},
     "output_type": "execute_result"
    }
   ],
   "source": [
    "get_action(obs_buf)"
   ]
  },
  {
   "cell_type": "code",
   "execution_count": 7,
   "metadata": {},
   "outputs": [
    {
     "name": "stdout",
     "output_type": "stream",
     "text": [
      "[ 0.  0.  0.  0.  0. -1.  0.  0.  0.  0.  0.  0.  0.  0.  0.  0.  0.  0.\n",
      "  0.  0.  0.  0.  0.  0.  0.  0.  0.  0.  0.  0.  0.  0.  0.  0.  0.  0.\n",
      "  0.  0.  0.]\n",
      "[[ 0.05191529 -0.09791541  0.03827243 -0.32177296  0.16737801 -0.038475\n",
      "   0.06746499 -0.1290952   0.3078883  -0.14461225]]\n"
     ]
    }
   ],
   "source": [
    "import onnx\n",
    "import onnxruntime as ort\n",
    "import numpy as np\n",
    "from operator import itemgetter\n",
    "\n",
    "\n",
    "class Model:\n",
    "    def __init__(self, onnx_model_path) -> None:\n",
    "        self.ort_model = ort.InferenceSession(onnx_model_path)\n",
    "                \n",
    "        self.obs_names = [\n",
    "            # \"linearVelocity\", \n",
    "            \"angularVelocity\", \n",
    "            \"projectedGravity\", \n",
    "            \"commands\", \n",
    "            \"dofPosition\", \n",
    "            \"dofVelocity\", \n",
    "            \"actions\"\n",
    "        ]\n",
    "        \n",
    "    def get_action(self,obs):\n",
    "        mu, log_std, value = self.ort_model.run(\n",
    "        None,\n",
    "        {\n",
    "            \"obs\": np.asarray(obs,dtype=np.float32).reshape(1,-1)},\n",
    "        )\n",
    "        return mu\n",
    "    \n",
    "onnx_model_path = \"/home/grl/repo/RobotsMakingRobots/legged_env/outputs/Biped/export/biped_c2r5h3/policy.onnx\"\n",
    "model = Model(onnx_model_path)\n",
    "\n",
    "\n",
    "obs_dict =  {\n",
    "    # 'linearVelocity': sensor_data['linearVelocity'], # DOES NOT HAVE THIS IN REAL\n",
    "    'linearVelocity': np.zeros(3), # TODO: Fix this\n",
    "    'angularVelocity':np.zeros(3), # TODO: Fix this\n",
    "    'projectedGravity': np.array([0.0, 0.0, -1]),\n",
    "    'commands': np.zeros(3), # TODO: Fix this\n",
    "    \"dofPosition\": np.zeros(10),\n",
    "    \"dofVelocity\": np.zeros(10),\n",
    "    # \"heightMap\": \n",
    "    \"actions\": np.zeros(10), # TODO: Fix this\n",
    "}\n",
    "obs_buf = np.concatenate(itemgetter(*model.obs_names)(obs_dict), axis=-1)\n",
    "print(obs_buf)\n",
    "actions = model.get_action(obs_buf)\n",
    "print(actions)"
   ]
  },
  {
   "cell_type": "code",
   "execution_count": null,
   "metadata": {},
   "outputs": [],
   "source": []
  }
 ],
 "metadata": {
  "kernelspec": {
   "display_name": "Python 3",
   "language": "python",
   "name": "python3"
  },
  "language_info": {
   "codemirror_mode": {
    "name": "ipython",
    "version": 3
   },
   "file_extension": ".py",
   "mimetype": "text/x-python",
   "name": "python",
   "nbconvert_exporter": "python",
   "pygments_lexer": "ipython3",
   "version": "3.8.18"
  }
 },
 "nbformat": 4,
 "nbformat_minor": 2
}
