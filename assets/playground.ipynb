{
 "cells": [
  {
   "cell_type": "code",
   "execution_count": 2,
   "metadata": {},
   "outputs": [],
   "source": [
    "import trimesh\n",
    "import urdfpy\n",
    "import numpy as np"
   ]
  },
  {
   "cell_type": "code",
   "execution_count": 26,
   "metadata": {},
   "outputs": [
    {
     "name": "stdout",
     "output_type": "stream",
     "text": [
      "base_link 1.5829483206719877\n",
      "body_1_0_1 0.0651776633032798\n",
      "body_1_1_1 0.08333511172191499\n",
      "body_1_2_1 0.08054274287963308\n",
      "body_1_3_1 0.06286681181080091\n",
      "body_2_0_1 0.15435624844025742\n",
      "body_2_1_1 0.1697787967564116\n",
      "body_2_2_1 0.14940796074286172\n",
      "body_2_3_1 0.17215466721428732\n"
     ]
    }
   ],
   "source": [
    "\n",
    "# urdf_path = \"urdf/RobotDog/RobotDog7kg.urdf\"\n",
    "urdf_path = \"urdf/robotdog4kg/RobotDog_top-z-5_bottom-y-2.urdf\"\n",
    "urdf = urdfpy.URDF.load(urdf_path)\n",
    "\n",
    "for link_name, link in urdf.link_map.items():\n",
    "    print(link_name,link.inertial.mass)\n",
    "np.sum([link.inertial.mass for link_name, link in urdf.link_map.items()])"
   ]
  },
  {
   "cell_type": "code",
   "execution_count": 37,
   "metadata": {},
   "outputs": [
    {
     "name": "stdout",
     "output_type": "stream",
     "text": [
      "base_link 4.944006724025301 <urdfpy.urdf.Link object at 0x7f64d35f0e80>\n",
      "body_1_1_1 0.17635098126357945 <urdfpy.urdf.Link object at 0x7f64d357b070>\n",
      "body_1_2_1 0.21988900237553521 <urdfpy.urdf.Link object at 0x7f64d3633940>\n",
      "body_1_3_1 0.2124436301601684 <urdfpy.urdf.Link object at 0x7f64d02df910>\n",
      "body_1_4_1 0.16803507345033536 <urdfpy.urdf.Link object at 0x7f64d02e2c40>\n",
      "body_2_1_1 0.4197478789995662 <urdfpy.urdf.Link object at 0x7f64d02df9d0>\n",
      "body_2_2_1 0.4725136412635692 <urdfpy.urdf.Link object at 0x7f64d02e40d0>\n",
      "body_2_3_1 0.39949807856162617 <urdfpy.urdf.Link object at 0x7f64d02e7e50>\n",
      "body_2_4_1 0.47989575308955273 <urdfpy.urdf.Link object at 0x7f64d35f4df0>\n"
     ]
    }
   ],
   "source": [
    "urdf_path = \"urdf/RobotDog/RobotDog7kg.urdf\"\n",
    "urdf = urdfpy.URDF.load(urdf_path)\n",
    "\n",
    "for link_name, link in urdf.link_map.items():\n",
    "    print(link_name,link.inertial.mass,link)\n",
    "np.sum([link.inertial.mass for link_name, link in urdf.link_map.items()])\n",
    "scale = 0.32  # scale mass/inertia\n",
    "for link_name, link in urdf.link_map.items():\n",
    "    link.inertial.mass*=scale\n",
    "    link.inertial.inertia*=scale\n",
    "urdf.save(\"urdf/RobotDog/RobotDog3kg.urdf\")"
   ]
  },
  {
   "cell_type": "code",
   "execution_count": 20,
   "metadata": {},
   "outputs": [
    {
     "data": {
      "text/plain": [
       "2.5205683235414345"
      ]
     },
     "execution_count": 20,
     "metadata": {},
     "output_type": "execute_result"
    }
   ],
   "source": []
  },
  {
   "cell_type": "code",
   "execution_count": 32,
   "metadata": {},
   "outputs": [],
   "source": [
    "\n"
   ]
  },
  {
   "cell_type": "code",
   "execution_count": 11,
   "metadata": {},
   "outputs": [],
   "source": []
  }
 ],
 "metadata": {
  "kernelspec": {
   "display_name": "Python 3",
   "language": "python",
   "name": "python3"
  },
  "language_info": {
   "codemirror_mode": {
    "name": "ipython",
    "version": 3
   },
   "file_extension": ".py",
   "mimetype": "text/x-python",
   "name": "python",
   "nbconvert_exporter": "python",
   "pygments_lexer": "ipython3",
   "version": "3.8.18"
  }
 },
 "nbformat": 4,
 "nbformat_minor": 2
}
