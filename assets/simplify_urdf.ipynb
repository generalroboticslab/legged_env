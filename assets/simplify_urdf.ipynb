{
 "cells": [
  {
   "cell_type": "code",
   "execution_count": 1,
   "metadata": {},
   "outputs": [
    {
     "name": "stdout",
     "output_type": "stream",
     "text": [
      "Jupyter environment detected. Enabling Open3D WebVisualizer.\n",
      "[Open3D INFO] WebRTC GUI backend enabled.\n",
      "[Open3D INFO] WebRTCWindowSystem: HTTP handshake server disabled.\n"
     ]
    }
   ],
   "source": [
    "import yourdfpy\n",
    "import trimesh\n",
    "import numpy as np\n",
    "import matplotlib.pyplot as plt\n",
    "import open3d as o3d\n",
    "from urdf_utils import *\n",
    "\n",
    "\n",
    "\n",
    "asset_path = \"/home/grl/repo/RobotsMakingRobots/evolutionary_loop/assets/robogrammar_bank/robot_1085/robot.urdf\"\n",
    "\n",
    "urdf = yourdfpy.URDF.load(asset_path,\n",
    "                          build_scene_graph=False,\n",
    "                          load_meshes=False,\n",
    "                          load_collision_meshes=True,\n",
    "                          build_collision_scene_graph=True\n",
    "                          )"
   ]
  },
  {
   "cell_type": "code",
   "execution_count": 2,
   "metadata": {},
   "outputs": [
    {
     "data": {
      "text/plain": [
       "'base_link_0'"
      ]
     },
     "execution_count": 2,
     "metadata": {},
     "output_type": "execute_result"
    }
   ],
   "source": [
    "urdf.base_link"
   ]
  },
  {
   "cell_type": "code",
   "execution_count": 3,
   "metadata": {},
   "outputs": [
    {
     "data": {
      "text/plain": [
       "Link(name='base_link_0', inertial=Inertial(origin=array([[1., 0., 0., 0.],\n",
       "       [0., 1., 0., 0.],\n",
       "       [0., 0., 1., 0.],\n",
       "       [0., 0., 0., 1.]]), mass=0.2667435114503817, inertia=array([[0.1, 0.1, 0.1],\n",
       "       [0.1, 0.1, 0.1],\n",
       "       [0.1, 0.1, 0.1]])), visuals=[Visual(name=None, origin=array([[1., 0., 0., 0.],\n",
       "       [0., 1., 0., 0.],\n",
       "       [0., 0., 1., 0.],\n",
       "       [0., 0., 0., 1.]]), geometry=Geometry(box=None, cylinder=None, sphere=None, mesh=Mesh(filename='meshes/link_0.obj', scale=None)), material=Material(name='gray', color=None, texture=None))], collisions=[Collision(name='base_link_0', origin=array([[1., 0., 0., 0.],\n",
       "       [0., 1., 0., 0.],\n",
       "       [0., 0., 1., 0.],\n",
       "       [0., 0., 0., 1.]]), geometry=Geometry(box=None, cylinder=None, sphere=None, mesh=Mesh(filename='meshes/link_0.obj', scale=None)))])"
      ]
     },
     "execution_count": 3,
     "metadata": {},
     "output_type": "execute_result"
    }
   ],
   "source": [
    "urdf.link_map[urdf.base_link]"
   ]
  },
  {
   "cell_type": "code",
   "execution_count": 8,
   "metadata": {},
   "outputs": [
    {
     "ename": "TypeError",
     "evalue": "unhashable type: 'list'",
     "output_type": "error",
     "traceback": [
      "\u001b[0;31m---------------------------------------------------------------------------\u001b[0m",
      "\u001b[0;31mTypeError\u001b[0m                                 Traceback (most recent call last)",
      "Cell \u001b[0;32mIn[8], line 1\u001b[0m\n\u001b[0;32m----> 1\u001b[0m link_to_joint_dict \u001b[38;5;241m=\u001b[39m {[] \u001b[38;5;28;01mfor\u001b[39;00m link \u001b[38;5;129;01min\u001b[39;00m urdf\u001b[38;5;241m.\u001b[39mlink_map\u001b[38;5;241m.\u001b[39mkeys()}\n\u001b[1;32m      2\u001b[0m \u001b[38;5;28;01mfor\u001b[39;00m joint_name,joint \u001b[38;5;129;01min\u001b[39;00m urdf\u001b[38;5;241m.\u001b[39mjoint_map\u001b[38;5;241m.\u001b[39mitems():\n\u001b[1;32m      3\u001b[0m     \u001b[38;5;28mprint\u001b[39m(joint\u001b[38;5;241m.\u001b[39mparent,joint\u001b[38;5;241m.\u001b[39mchild)\n",
      "Cell \u001b[0;32mIn[8], line 1\u001b[0m, in \u001b[0;36m<setcomp>\u001b[0;34m(.0)\u001b[0m\n\u001b[0;32m----> 1\u001b[0m link_to_joint_dict \u001b[38;5;241m=\u001b[39m {[] \u001b[38;5;28;01mfor\u001b[39;00m link \u001b[38;5;129;01min\u001b[39;00m urdf\u001b[38;5;241m.\u001b[39mlink_map\u001b[38;5;241m.\u001b[39mkeys()}\n\u001b[1;32m      2\u001b[0m \u001b[38;5;28;01mfor\u001b[39;00m joint_name,joint \u001b[38;5;129;01min\u001b[39;00m urdf\u001b[38;5;241m.\u001b[39mjoint_map\u001b[38;5;241m.\u001b[39mitems():\n\u001b[1;32m      3\u001b[0m     \u001b[38;5;28mprint\u001b[39m(joint\u001b[38;5;241m.\u001b[39mparent,joint\u001b[38;5;241m.\u001b[39mchild)\n",
      "\u001b[0;31mTypeError\u001b[0m: unhashable type: 'list'"
     ]
    }
   ],
   "source": [
    "link_to_joint_dict = {link_name: [] for link_name in urdf.link_map.keys()}\n",
    "for joint_name,joint in urdf.joint_map.items():\n",
    "    print(joint.parent,joint.child)"
   ]
  },
  {
   "cell_type": "code",
   "execution_count": 9,
   "metadata": {},
   "outputs": [
    {
     "data": {
      "text/plain": [
       "[[], [], [], [], [], [], [], [], [], [], [], [], [], [], [], [], []]"
      ]
     },
     "execution_count": 9,
     "metadata": {},
     "output_type": "execute_result"
    }
   ],
   "source": [
    "[[] for link_name in urdf.link_map.keys()]"
   ]
  },
  {
   "cell_type": "code",
   "execution_count": null,
   "metadata": {},
   "outputs": [],
   "source": [
    "{link_name: [] for link_name in urdf.link_map.keys()}"
   ]
  },
  {
   "cell_type": "code",
   "execution_count": 3,
   "metadata": {},
   "outputs": [],
   "source": [
    "import os\n",
    "import re\n",
    "import glob\n",
    "# pip install pycollada\n",
    "# pip instal open3d\n",
    "import open3d as o3d\n",
    "import trimesh\n",
    "\n",
    "def load_to_o3d_mesh(path:str):\n",
    "    if path.endswith('.dae'): # dae mesh\n",
    "        import collada\n",
    "        c_mesh = collada.Collada(path)\n",
    "        o3d_mesh = o3d.geometry.TriangleMesh()\n",
    "        for geom in c_mesh.geometries:\n",
    "            print(geom)\n",
    "            for triset in geom.primitives:\n",
    "                if not type(triset) is collada.triangleset.TriangleSet:\n",
    "                    continue\n",
    "                print(geom,triset)\n",
    "            \n",
    "                o3d_mesh += o3d.geometry.TriangleMesh(\n",
    "                    o3d.utility.Vector3dVector(triset.vertex), # vertices\n",
    "                    o3d.utility.Vector3iVector(triset.vertex_index) # triangles\n",
    "                    )\n",
    "    else: # stl/obj\n",
    "        o3d_mesh = o3d.io.read_triangle_mesh(path)\n",
    "        \n",
    "    if o3d_mesh.is_watertight()==False: # fix water tightness\n",
    "        trimesh_mesh = trimesh.load(path) # Load your Trimesh mesh\n",
    "        # Repair the mesh\n",
    "        print(\"mesh is not water tight, tyring to fill holes\")\n",
    "        if trimesh.repair.fill_holes(trimesh_mesh) is False:\n",
    "            raise(NotImplementedError(\"cannot fix broken mesh\"))\n",
    "        # Create Open3D TriangleMesh\n",
    "        o3d_mesh = o3d.geometry.TriangleMesh()\n",
    "        o3d_mesh.vertices = o3d.utility.Vector3dVector(trimesh_mesh.vertices.astype(np.float64))\n",
    "        o3d_mesh.triangles = o3d.utility.Vector3iVector(trimesh_mesh.faces)\n",
    "        \n",
    "    o3d_mesh.compute_triangle_normals()\n",
    "    o3d_mesh.compute_vertex_normals()\n",
    "    return o3d_mesh\n",
    "\n",
    "def simplify_o3d_mesh(o3d_mesh:o3d.geometry.TriangleMesh, decimation:int,maximum_error=0.0005):\n",
    "    if decimation<=1:\n",
    "        return o3d_mesh\n",
    "    mesh_smp = o3d_mesh\\\n",
    "        .remove_unreferenced_vertices()\\\n",
    "        .remove_duplicated_vertices()\\\n",
    "        .remove_duplicated_triangles()\\\n",
    "        .remove_degenerate_triangles()\\\n",
    "        .remove_non_manifold_edges()\\\n",
    "        .merge_close_vertices(maximum_error)\\\n",
    "        .simplify_vertex_clustering(maximum_error)\\\n",
    "        .simplify_quadric_decimation(\n",
    "            target_number_of_triangles=int(len(o3d_mesh.triangles)/decimation),\n",
    "            maximum_error = maximum_error\n",
    "            )\n",
    "    mesh_smp.compute_vertex_normals()\n",
    "    mesh_smp.compute_triangle_normals()\n",
    "    print(mesh_smp)\n",
    "    return mesh_smp"
   ]
  },
  {
   "cell_type": "code",
   "execution_count": 4,
   "metadata": {},
   "outputs": [
    {
     "name": "stdout",
     "output_type": "stream",
     "text": [
      "loading 2_hip_L_1.stl\n",
      "mesh is not water tight, tyring to fill holes\n"
     ]
    },
    {
     "ename": "NotImplementedError",
     "evalue": "cannot fix broken mesh",
     "output_type": "error",
     "traceback": [
      "\u001b[0;31m---------------------------------------------------------------------------\u001b[0m",
      "\u001b[0;31mNotImplementedError\u001b[0m                       Traceback (most recent call last)",
      "Cell \u001b[0;32mIn[4], line 33\u001b[0m\n\u001b[1;32m     30\u001b[0m \u001b[38;5;28;01mfor\u001b[39;00m path, rel_path \u001b[38;5;129;01min\u001b[39;00m \u001b[38;5;28mzip\u001b[39m(paths,relative_paths):\n\u001b[1;32m     32\u001b[0m     \u001b[38;5;28mprint\u001b[39m(\u001b[38;5;124mf\u001b[39m\u001b[38;5;124m\"\u001b[39m\u001b[38;5;124mloading \u001b[39m\u001b[38;5;132;01m{\u001b[39;00mrel_path\u001b[38;5;132;01m}\u001b[39;00m\u001b[38;5;124m\"\u001b[39m)\n\u001b[0;32m---> 33\u001b[0m     o3d_mesh \u001b[38;5;241m=\u001b[39m \u001b[43mload_to_o3d_mesh\u001b[49m\u001b[43m(\u001b[49m\u001b[43mpath\u001b[49m\u001b[43m)\u001b[49m\n\u001b[1;32m     34\u001b[0m     \u001b[38;5;28mprint\u001b[39m(o3d_mesh)\n\u001b[1;32m     35\u001b[0m     \u001b[38;5;66;03m# print(f\"watertight={o3d_mesh.is_watertight()}\")\u001b[39;00m\n\u001b[1;32m     36\u001b[0m     \u001b[38;5;66;03m# o3d.visualization.draw_geometries([o3d_mesh])\u001b[39;00m\n",
      "Cell \u001b[0;32mIn[3], line 33\u001b[0m, in \u001b[0;36mload_to_o3d_mesh\u001b[0;34m(path)\u001b[0m\n\u001b[1;32m     31\u001b[0m \u001b[38;5;28mprint\u001b[39m(\u001b[38;5;124m\"\u001b[39m\u001b[38;5;124mmesh is not water tight, tyring to fill holes\u001b[39m\u001b[38;5;124m\"\u001b[39m)\n\u001b[1;32m     32\u001b[0m \u001b[38;5;28;01mif\u001b[39;00m trimesh\u001b[38;5;241m.\u001b[39mrepair\u001b[38;5;241m.\u001b[39mfill_holes(trimesh_mesh) \u001b[38;5;129;01mis\u001b[39;00m \u001b[38;5;28;01mFalse\u001b[39;00m:\n\u001b[0;32m---> 33\u001b[0m     \u001b[38;5;28;01mraise\u001b[39;00m(\u001b[38;5;167;01mNotImplementedError\u001b[39;00m(\u001b[38;5;124m\"\u001b[39m\u001b[38;5;124mcannot fix broken mesh\u001b[39m\u001b[38;5;124m\"\u001b[39m))\n\u001b[1;32m     34\u001b[0m \u001b[38;5;66;03m# Create Open3D TriangleMesh\u001b[39;00m\n\u001b[1;32m     35\u001b[0m o3d_mesh \u001b[38;5;241m=\u001b[39m o3d\u001b[38;5;241m.\u001b[39mgeometry\u001b[38;5;241m.\u001b[39mTriangleMesh()\n",
      "\u001b[0;31mNotImplementedError\u001b[0m: cannot fix broken mesh"
     ]
    }
   ],
   "source": [
    "decimation = 100 # reduce triangles by this factor\n",
    "\n",
    "src_dir = \"urdf/biped_new_foot/meshes\"\n",
    "dest_dir = \"urdf/biped_new_foot/simple_mesh\"\n",
    "\n",
    "# src_dir = \"urdf/px2_ot/meshes\"\n",
    "# dest_dir = \"urdf/px2_ot/simple_meshes\"\n",
    "\n",
    "\n",
    "src_ext = \"stl\"\n",
    "# dest_ext = \"stl\"\n",
    "\n",
    "# Compile a case-insensitive regular expression pattern for the extension\n",
    "pattern = re.compile(re.escape(src_ext), re.IGNORECASE)\n",
    "\n",
    "# Use glob to recursively find all files in the folder and its subfolders\n",
    "paths = glob.glob(os.path.join(src_dir, '**'), recursive=True)\n",
    "\n",
    "# Filter the files based on the case-insensitive extension pattern\n",
    "paths = [file for file in paths if pattern.search(file)]\n",
    "\n",
    "# Calculate the relative path between the original path and the matching path\n",
    "relative_paths = [os.path.relpath(path, src_dir) for path in paths]\n",
    "\n",
    "# # Print the list of files\n",
    "# for path in relative_paths:\n",
    "#     print(path)\n",
    "    \n",
    "\n",
    "for path, rel_path in zip(paths,relative_paths):\n",
    "    \n",
    "    print(f\"loading {rel_path}\")\n",
    "    o3d_mesh = load_to_o3d_mesh(path)\n",
    "    print(o3d_mesh)\n",
    "    # print(f\"watertight={o3d_mesh.is_watertight()}\")\n",
    "    # o3d.visualization.draw_geometries([o3d_mesh])\n",
    "    mesh_export = o3d_mesh\n",
    "    \n",
    "    mesh_export = simplify_o3d_mesh(o3d_mesh,decimation)\n",
    "    # export\n",
    "    # export_path = f\"{dest_dir}/{rel_path}.{dest_ext}\"\n",
    "    export_path = f\"{dest_dir}/{rel_path}\"\n",
    "    \n",
    "    \n",
    "    # Get the folder path of the file path\n",
    "    folder_path = os.path.dirname(export_path)\n",
    "    if not os.path.exists(folder_path):\n",
    "        os.makedirs(folder_path)\n",
    "    o3d.io.write_triangle_mesh(export_path,mesh_export,write_vertex_normals=True)\n",
    "    # o3d.visualization.draw_geometries([mesh_export])\n",
    "    print(f\"saved to \\\"{export_path}\\\"\")\n",
    "    file_size_bytes_original = os.path.getsize(path)\n",
    "    file_size_bytes_export = os.path.getsize(export_path)\n",
    "    print(f\"reduction ratio={(1-file_size_bytes_export/file_size_bytes_original)*100:.1f}%\")\n",
    "    print(\"-\"*10)"
   ]
  },
  {
   "cell_type": "code",
   "execution_count": null,
   "metadata": {},
   "outputs": [],
   "source": []
  }
 ],
 "metadata": {
  "kernelspec": {
   "display_name": "Python 3",
   "language": "python",
   "name": "python3"
  },
  "language_info": {
   "codemirror_mode": {
    "name": "ipython",
    "version": 3
   },
   "file_extension": ".py",
   "mimetype": "text/x-python",
   "name": "python",
   "nbconvert_exporter": "python",
   "pygments_lexer": "ipython3",
   "version": "3.8.18"
  }
 },
 "nbformat": 4,
 "nbformat_minor": 2
}
